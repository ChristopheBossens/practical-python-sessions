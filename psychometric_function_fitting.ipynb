{
  "nbformat": 4,
  "nbformat_minor": 0,
  "metadata": {
    "colab": {
      "provenance": []
    },
    "kernelspec": {
      "name": "python3",
      "display_name": "Python 3"
    },
    "language_info": {
      "name": "python"
    }
  },
  "cells": [
    {
      "cell_type": "markdown",
      "source": [
        "## Support material for the practical session on the psychometric function.\n",
        "\n",
        "In this script, we will :\n",
        "- simulate psychophysical data using the psychometric function\n",
        "- fit the psychometric function to data\n",
        "- evaluate goodness-of-fit of the model"
      ],
      "metadata": {
        "id": "cet-_L72XUtU"
      }
    },
    {
      "cell_type": "code",
      "execution_count": 1,
      "metadata": {
        "id": "exGWPeQOXIxq"
      },
      "outputs": [],
      "source": [
        "# Load the necessary packages\n",
        "import scipy as sp\n",
        "import numpy as np\n",
        "import seaborn as sb\n",
        "import matplotlib.pyplot as plt"
      ]
    },
    {
      "cell_type": "code",
      "source": [
        "# Imagine an experiment in which you have to decide whether dots are moving towards the left or right side of the screen\n",
        "# There are 11 difficulty levels, running from 0 (= all dots are moving completely ad random) to 1 (= all dots are moving equally)\n",
        "# Let's create a variable x reflecting these 11 levels \n",
        "x = np.linspace(0, 1,num=11)\n",
        "\n",
        "# Within each block, there were 200 trials. Let's create a variable ntrials that reflects this\n",
        "ntrials = np.repeat(200,len(x))\n",
        "\n",
        "# There are two conditions: A) people do the experimenta alone, B) while being watched by the experimenter.\n",
        "# Below, you can find average accuracy for each level of x, seperately for condition A and B\n",
        "y_A = np.array([0.51 , 0.49 , 0.49 , 0.485, 0.495, 0.66 , 0.8  , 0.925, 0.91 , 0.97 , 0.955])\n",
        "y_B = np.array([0.515, 0.56 , 0.53 , 0.63 , 0.63 , 0.62 , 0.78 , 0.785, 0.86 , 0.92 , 0.935])\n",
        "\n",
        "# Let's visualize these data to see how being watched influences performance\n",
        "fig, (ax1, ax2) = plt.subplots(1, 2)\n",
        "ax1.scatter(x, y_A)\n",
        "ax1.set_xlabel(\"Difficulty\")\n",
        "ax1.set_ylabel(\"Average accuracy\")\n",
        "ax1.set_title(\"Condition: Alone\")\n",
        "ax2.scatter(x, y_B)\n",
        "ax2.set_xlabel(\"Difficulty\")\n",
        "ax2.set_ylabel(\"Average accuracy\")\n",
        "ax2.set_title(\"Condition: While being watched\")"
      ],
      "metadata": {
        "colab": {
          "base_uri": "https://localhost:8080/",
          "height": 312
        },
        "id": "qLAdnDs2XqgA",
        "outputId": "55629c3f-81c3-4413-c4f2-1fcad23093d3"
      },
      "execution_count": 2,
      "outputs": [
        {
          "output_type": "execute_result",
          "data": {
            "text/plain": [
              "Text(0.5, 1.0, 'Condition: While being watched')"
            ]
          },
          "metadata": {},
          "execution_count": 2
        },
        {
          "output_type": "display_data",
          "data": {
            "text/plain": [
              "<Figure size 432x288 with 2 Axes>"
            ],
            "image/png": "[encoded data removed]"
          },
          "metadata": {
            "needs_background": "light"
          }
        }
      ]
    },
    {
      "cell_type": "markdown",
      "source": [
        "**Q1.** Describe in your own words what is different between both conditions"
      ],
      "metadata": {
        "id": "0A2aDge0X1hr"
      }
    },
    {
      "cell_type": "markdown",
      "source": [
        "**Q2.** Which of the four parameters of the psychometric function (slope, intercept, lapse, guess) do you think is different here? Why?"
      ],
      "metadata": {
        "id": "bDAExVHKX52r"
      }
    },
    {
      "cell_type": "markdown",
      "source": [
        "Next, instead of guessing, we'll try to actually fit a psychometric function to both these patterns.\n",
        "\n",
        "To do so, we'll define a function that generates data based on the psychometric funtion:"
      ],
      "metadata": {
        "id": "i1yo7sFvZusD"
      }
    },
    {
      "cell_type": "code",
      "source": [
        "def psychometric(x,guess,lapse,alpha,beta):\n",
        "    F = sp.stats.norm.cdf(x,alpha,beta)\n",
        "    p_correct = guess + (1 - guess - lapse) * F\n",
        "    return(p_correct)"
      ],
      "metadata": {
        "id": "Hy1qGkAFZzwc"
      },
      "execution_count": 3,
      "outputs": []
    },
    {
      "cell_type": "markdown",
      "source": [
        "**Q3**: describe what each line in this function does (tip, inspect the help file like this: ?sp.stats.norm.cdf )"
      ],
      "metadata": {
        "id": "7kiyL5WhZ60d"
      }
    },
    {
      "cell_type": "code",
      "source": [
        "?sp.stats.norm.cdf"
      ],
      "metadata": {
        "id": "NBgSgHEFZ-Ns"
      },
      "execution_count": 4,
      "outputs": []
    },
    {
      "cell_type": "markdown",
      "source": [
        "**Q4**: let's play around a bit with this function, change each of the parameters and interpret what you see:\n",
        "1.  what happens if you increase/decrease guess?\n",
        "2.  what happens if you increase/decrease lapse?\n",
        "3.  what happens if you increase/decrease alpha?\n",
        "4.  what happens if you increase/decrease beta?"
      ],
      "metadata": {
        "id": "jTimp7wJaGWD"
      }
    },
    {
      "cell_type": "code",
      "source": [
        "x_temp = np.linspace(0, 1,num=100) #\n",
        "y_temp = psychometric(x_temp,guess=.5,lapse= 0, alpha= .55, beta=.1)\n",
        "plt.plot(x_temp,y_temp)\n",
        "plt.xlabel('Difficulty')\n",
        "plt.ylabel('Average accuracy')"
      ],
      "metadata": {
        "colab": {
          "base_uri": "https://localhost:8080/",
          "height": 296
        },
        "id": "63zJjR55aQYd",
        "outputId": "5a33d780-9723-4a32-e8ab-f263b739dd22"
      },
      "execution_count": 7,
      "outputs": [
        {
          "output_type": "execute_result",
          "data": {
            "text/plain": [
              "Text(0, 0.5, 'Average accuracy')"
            ]
          },
          "metadata": {},
          "execution_count": 7
        },
        {
          "output_type": "display_data",
          "data": {
            "text/plain": [
              "<Figure size 432x288 with 1 Axes>"
            ],
            "image/png": "[encoded data removed]"
          },
          "metadata": {
            "needs_background": "light"
          }
        }
      ]
    }
  ]
}